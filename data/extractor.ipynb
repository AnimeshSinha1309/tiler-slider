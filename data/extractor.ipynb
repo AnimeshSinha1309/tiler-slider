{
 "cells": [
  {
   "cell_type": "code",
   "execution_count": 24,
   "metadata": {},
   "outputs": [],
   "source": [
    "import os\n",
    "from matplotlib import pyplot as plt\n",
    "import cv2 as cv\n",
    "from dataclasses import dataclass\n",
    "import numpy as np\n",
    "import tqdm.auto as tqdm"
   ]
  },
  {
   "cell_type": "code",
   "execution_count": 19,
   "metadata": {},
   "outputs": [],
   "source": [
    "class ImageLoader:\n",
    "\n",
    "    BACKGROUND_COLOR = np.array([0, 172, 194])\n",
    "    EMPTY_TILE_COLOR = np.array([223, 247, 249])\n",
    "    COLOR_TOLERANCE = np.array([10, 10, 10])\n",
    "\n",
    "    @dataclass\n",
    "    class ImageRawData:\n",
    "        name: str\n",
    "        puzzle_image: np.ndarray\n",
    "        level_label: np.ndarray\n",
    "        target_moves: np.ndarray\n",
    "        \n",
    "    @dataclass\n",
    "    class ImageProcessed:\n",
    "        size: int\n",
    "        blocked_locations: list[tuple[int, int]]\n",
    "        initial_locations: list[tuple[int, int]]\n",
    "        target_locations: list[tuple[int, int]]\n",
    "\n",
    "    def __init__(self):\n",
    "        self.files = list(filter(lambda x: x.endswith('.jpg'), sorted(os.listdir())))\n",
    "\n",
    "    def __len__(self):\n",
    "        return len(self.files)\n",
    "\n",
    "    def __getitem__(self, image_id: int) -> ImageRawData:\n",
    "        image = plt.imread(self.files[image_id])\n",
    "        return self.ImageRawData(\n",
    "            name=self.files[image_id],\n",
    "            puzzle_image=image[665:1710, 15:-15],\n",
    "            level_label=image[420:500, 25:500],\n",
    "            target_moves=image[570:650, 600:1000],\n",
    "        )\n",
    "\n",
    "    @classmethod\n",
    "    def parse_puzzle_image(cls, target_image: np.ndarray, multiple_colors: bool):\n",
    "        boundary = cv.inRange(\n",
    "            target_image,\n",
    "            ImageLoader.BACKGROUND_COLOR - ImageLoader.COLOR_TOLERANCE,\n",
    "            ImageLoader.BACKGROUND_COLOR + ImageLoader.COLOR_TOLERANCE\n",
    "        )\n",
    "        r_lines, = np.where(boundary.mean(axis=1) > 100.0)\n",
    "        c_lines, = np.where(boundary.mean(axis=0) > 100.0)\n",
    "        r_lines = [1,] + r_lines\n",
    "        c_lines = [1,] + c_lines\n",
    "        r_groups, c_groups = [], []\n",
    "        for i in range(1, len(c_lines)):\n",
    "            if c_lines[i] > c_lines[i - 1] + 25:\n",
    "                c_groups.append((c_lines[i - 1] + 1, c_lines[i]))\n",
    "        for i in range(1, len(r_lines)):\n",
    "            if r_lines[i] > r_lines[i - 1] + 25:\n",
    "                r_groups.append((r_lines[i - 1] + 1, r_lines[i]))\n",
    "\n",
    "        blocked_squares: list[tuple[int, int]] = []\n",
    "        tile_positions_and_colors: list[tuple[tuple[int, int], np.ndarray]] = []\n",
    "        goal_positions_and_colors: list[tuple[tuple[int, int], np.ndarray]] = []\n",
    "        for r, (r_start, r_end) in enumerate(r_groups):\n",
    "            for c, (c_start, c_end) in enumerate(c_groups):\n",
    "                tile = target_image[r_start:r_end, c_start:c_end]\n",
    "                tile = tile[int(0.1 * len(tile)):-int(0.1 * len(tile)),\n",
    "                            int(0.1 * len(tile)):-int(0.1 * len(tile))]\n",
    "                if np.all(\n",
    "                    cv.inRange(\n",
    "                        tile,\n",
    "                        ImageLoader.EMPTY_TILE_COLOR - ImageLoader.COLOR_TOLERANCE,\n",
    "                        ImageLoader.EMPTY_TILE_COLOR + ImageLoader.COLOR_TOLERANCE\n",
    "                    )\n",
    "                ):\n",
    "                    pass\n",
    "                elif np.all(\n",
    "                    cv.inRange(\n",
    "                        tile[int(0.45 * len(tile)):int(0.55 * len(tile)),\n",
    "                             int(0.45 * len(tile)):int(0.55 * len(tile))],\n",
    "                        ImageLoader.EMPTY_TILE_COLOR - ImageLoader.COLOR_TOLERANCE,\n",
    "                        ImageLoader.EMPTY_TILE_COLOR + ImageLoader.COLOR_TOLERANCE,\n",
    "                    )\n",
    "                ):\n",
    "                    color = np.mean(\n",
    "                        tile[int(0.0 * len(tile)):int(0.2 * len(tile)),\n",
    "                             int(0.0 * len(tile)):int(0.2 * len(tile))], axis=(0, 1))\n",
    "                    tile_positions_and_colors.append(((r, c), color))\n",
    "                elif np.all(\n",
    "                    cv.inRange(\n",
    "                        tile[int(0.0 * len(tile)):int(0.2 * len(tile)),\n",
    "                             int(0.0 * len(tile)):int(0.2 * len(tile))],\n",
    "                        ImageLoader.EMPTY_TILE_COLOR - ImageLoader.COLOR_TOLERANCE,\n",
    "                        ImageLoader.EMPTY_TILE_COLOR + ImageLoader.COLOR_TOLERANCE,\n",
    "                    )\n",
    "                ):\n",
    "                    color = np.mean(\n",
    "                        tile[int(0.45 * len(tile)):int(0.55 * len(tile)),\n",
    "                             int(0.45 * len(tile)):int(0.55 * len(tile))], axis=(0, 1))\n",
    "                    goal_positions_and_colors.append(((r, c), color))\n",
    "                else:\n",
    "                    blocked_squares.append((r, c))\n",
    "\n",
    "        assert len(r_groups) == len(c_groups), \"Board should always be a square\"\n",
    "        assert len(goal_positions_and_colors) == len(tile_positions_and_colors), \"Each tile should have a goal\"\n",
    "\n",
    "        tile_positions, goal_positions = [], []        \n",
    "        if multiple_colors:\n",
    "            for goal_idx in range(len(goal_positions_and_colors)):\n",
    "                goal_color = goal_positions_and_colors[goal_idx][1]\n",
    "                matching_tile_idx = []\n",
    "                for tile_idx in range(len(tile_positions_and_colors)):\n",
    "                    tile_color = tile_positions_and_colors[tile_idx][1]\n",
    "                    if np.linalg.norm(goal_color - tile_color) < np.linalg.norm(cls.COLOR_TOLERANCE):\n",
    "                        matching_tile_idx.append(tile_idx)\n",
    "                assert len(matching_tile_idx) == 1, \"Exactly one tile should want to come to this goal\"\n",
    "                tile_positions.append(tile_positions_and_colors[matching_tile_idx[0]][0])\n",
    "                goal_positions.append(goal_positions_and_colors[goal_idx][0])\n",
    "        else:\n",
    "            for goal, _ in goal_positions_and_colors:\n",
    "                goal_positions.append(goal)\n",
    "            for tile, _ in tile_positions_and_colors:\n",
    "                tile_positions.append(tile)\n",
    "\n",
    "        return cls.ImageProcessed(\n",
    "            size=len(r_groups),\n",
    "            blocked_locations=blocked_squares,\n",
    "            initial_locations=tile_positions,\n",
    "            target_locations=goal_positions,\n",
    "        )"
   ]
  },
  {
   "cell_type": "code",
   "execution_count": 21,
   "metadata": {},
   "outputs": [
    {
     "data": {
      "image/png": "[encoded data removed]",
      "text/plain": [
       "<Figure size 432x288 with 1 Axes>"
      ]
     },
     "metadata": {
      "needs_background": "light"
     },
     "output_type": "display_data"
    },
    {
     "data": {
      "text/plain": [
       "ImageLoader.ImageProcessed(size=4, blocked_locations=[(1, 0), (2, 3)], initial_locations=[(0, 3), (3, 2)], target_locations=[(0, 0), (3, 0)])"
      ]
     },
     "execution_count": 21,
     "metadata": {},
     "output_type": "execute_result"
    }
   ],
   "source": [
    "images = ImageLoader()\n",
    "image = images[0]\n",
    "plt.imshow(image.puzzle_image)\n",
    "plt.show()\n",
    "ImageLoader.parse_puzzle_image(image.puzzle_image, True)"
   ]
  },
  {
   "cell_type": "code",
   "execution_count": 27,
   "metadata": {},
   "outputs": [
    {
     "name": "stderr",
     "output_type": "stream",
     "text": [
      "100%|██████████| 400/400 [00:09<00:00, 41.58it/s]\n"
     ]
    }
   ],
   "source": [
    "levels = []\n",
    "for idx in tqdm.trange(len(images)):\n",
    "    image = images[idx]\n",
    "    try:\n",
    "        level = ImageLoader.parse_puzzle_image(image.puzzle_image, '_multi_' in image.name)\n",
    "        levels.append(level)\n",
    "    except AssertionError as e:\n",
    "        plt.imshow(image.puzzle_image)\n",
    "        print(image.name, \"|\", e)\n",
    "        plt.show()"
   ]
  },
  {
   "cell_type": "code",
   "execution_count": null,
   "metadata": {},
   "outputs": [],
   "source": []
  }
 ],
 "metadata": {
  "kernelspec": {
   "display_name": "base",
   "language": "python",
   "name": "python3"
  },
  "language_info": {
   "codemirror_mode": {
    "name": "ipython",
    "version": 3
   },
   "file_extension": ".py",
   "mimetype": "text/x-python",
   "name": "python",
   "nbconvert_exporter": "python",
   "pygments_lexer": "ipython3",
   "version": "3.9.7"
  }
 },
 "nbformat": 4,
 "nbformat_minor": 2
}
